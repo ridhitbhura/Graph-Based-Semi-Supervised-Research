{
 "cells": [
  {
   "cell_type": "code",
   "execution_count": 231,
   "metadata": {},
   "outputs": [],
   "source": [
    "import pandas as pd\n",
    "import numpy as np\n",
    "import matplotlib.pyplot as plt\n",
    "import networkx as nx\n",
    "import cvxpy as cp\n",
    "#import gurobipy"
   ]
  },
  {
   "cell_type": "code",
   "execution_count": 167,
   "metadata": {},
   "outputs": [],
   "source": [
    "df = pd.read_csv(\"/Users/ridhitbhura/Desktop/Cornell/Fall 2021/ORIE 4741/orie4741-finalproject/surv.csv\")\n",
    "df\n",
    "Y_correct = df['Categories']"
   ]
  },
  {
   "cell_type": "code",
   "execution_count": 168,
   "metadata": {},
   "outputs": [],
   "source": [
    "df = df.replace('+',1)"
   ]
  },
  {
   "cell_type": "code",
   "execution_count": 169,
   "metadata": {},
   "outputs": [],
   "source": [
    "df = df.replace('-',0)\n",
    "df = df.replace('PUS',1)\n",
    "df = df.replace('PIM',2)\n",
    "df = df.replace('PWS',3)"
   ]
  },
  {
   "cell_type": "code",
   "execution_count": 170,
   "metadata": {},
   "outputs": [
    {
     "data": {
      "text/html": [
       "<div>\n",
       "<style scoped>\n",
       "    .dataframe tbody tr th:only-of-type {\n",
       "        vertical-align: middle;\n",
       "    }\n",
       "\n",
       "    .dataframe tbody tr th {\n",
       "        vertical-align: top;\n",
       "    }\n",
       "\n",
       "    .dataframe thead th {\n",
       "        text-align: right;\n",
       "    }\n",
       "</style>\n",
       "<table border=\"1\" class=\"dataframe\">\n",
       "  <thead>\n",
       "    <tr style=\"text-align: right;\">\n",
       "      <th></th>\n",
       "      <th>A01</th>\n",
       "      <th>A02</th>\n",
       "      <th>A03</th>\n",
       "      <th>A04</th>\n",
       "      <th>A05</th>\n",
       "      <th>A06</th>\n",
       "      <th>A07</th>\n",
       "      <th>Categories</th>\n",
       "    </tr>\n",
       "  </thead>\n",
       "  <tbody>\n",
       "    <tr>\n",
       "      <th>0</th>\n",
       "      <td>1</td>\n",
       "      <td>1</td>\n",
       "      <td>1</td>\n",
       "      <td>1</td>\n",
       "      <td>1</td>\n",
       "      <td>0</td>\n",
       "      <td>0</td>\n",
       "      <td>1</td>\n",
       "    </tr>\n",
       "    <tr>\n",
       "      <th>1</th>\n",
       "      <td>1</td>\n",
       "      <td>1</td>\n",
       "      <td>0</td>\n",
       "      <td>1</td>\n",
       "      <td>1</td>\n",
       "      <td>0</td>\n",
       "      <td>0</td>\n",
       "      <td>1</td>\n",
       "    </tr>\n",
       "    <tr>\n",
       "      <th>2</th>\n",
       "      <td>1</td>\n",
       "      <td>1</td>\n",
       "      <td>1</td>\n",
       "      <td>1</td>\n",
       "      <td>0</td>\n",
       "      <td>1</td>\n",
       "      <td>0</td>\n",
       "      <td>1</td>\n",
       "    </tr>\n",
       "    <tr>\n",
       "      <th>3</th>\n",
       "      <td>1</td>\n",
       "      <td>1</td>\n",
       "      <td>0</td>\n",
       "      <td>1</td>\n",
       "      <td>0</td>\n",
       "      <td>1</td>\n",
       "      <td>0</td>\n",
       "      <td>1</td>\n",
       "    </tr>\n",
       "    <tr>\n",
       "      <th>4</th>\n",
       "      <td>1</td>\n",
       "      <td>0</td>\n",
       "      <td>0</td>\n",
       "      <td>0</td>\n",
       "      <td>0</td>\n",
       "      <td>0</td>\n",
       "      <td>1</td>\n",
       "      <td>1</td>\n",
       "    </tr>\n",
       "    <tr>\n",
       "      <th>5</th>\n",
       "      <td>1</td>\n",
       "      <td>1</td>\n",
       "      <td>1</td>\n",
       "      <td>0</td>\n",
       "      <td>0</td>\n",
       "      <td>0</td>\n",
       "      <td>1</td>\n",
       "      <td>1</td>\n",
       "    </tr>\n",
       "    <tr>\n",
       "      <th>6</th>\n",
       "      <td>1</td>\n",
       "      <td>1</td>\n",
       "      <td>0</td>\n",
       "      <td>0</td>\n",
       "      <td>0</td>\n",
       "      <td>0</td>\n",
       "      <td>1</td>\n",
       "      <td>1</td>\n",
       "    </tr>\n",
       "    <tr>\n",
       "      <th>7</th>\n",
       "      <td>1</td>\n",
       "      <td>1</td>\n",
       "      <td>1</td>\n",
       "      <td>1</td>\n",
       "      <td>0</td>\n",
       "      <td>0</td>\n",
       "      <td>0</td>\n",
       "      <td>1</td>\n",
       "    </tr>\n",
       "    <tr>\n",
       "      <th>8</th>\n",
       "      <td>1</td>\n",
       "      <td>0</td>\n",
       "      <td>0</td>\n",
       "      <td>1</td>\n",
       "      <td>1</td>\n",
       "      <td>0</td>\n",
       "      <td>0</td>\n",
       "      <td>2</td>\n",
       "    </tr>\n",
       "    <tr>\n",
       "      <th>9</th>\n",
       "      <td>0</td>\n",
       "      <td>1</td>\n",
       "      <td>0</td>\n",
       "      <td>1</td>\n",
       "      <td>1</td>\n",
       "      <td>0</td>\n",
       "      <td>0</td>\n",
       "      <td>2</td>\n",
       "    </tr>\n",
       "    <tr>\n",
       "      <th>10</th>\n",
       "      <td>1</td>\n",
       "      <td>0</td>\n",
       "      <td>0</td>\n",
       "      <td>1</td>\n",
       "      <td>0</td>\n",
       "      <td>1</td>\n",
       "      <td>0</td>\n",
       "      <td>2</td>\n",
       "    </tr>\n",
       "    <tr>\n",
       "      <th>11</th>\n",
       "      <td>0</td>\n",
       "      <td>1</td>\n",
       "      <td>0</td>\n",
       "      <td>1</td>\n",
       "      <td>0</td>\n",
       "      <td>1</td>\n",
       "      <td>0</td>\n",
       "      <td>2</td>\n",
       "    </tr>\n",
       "    <tr>\n",
       "      <th>12</th>\n",
       "      <td>0</td>\n",
       "      <td>1</td>\n",
       "      <td>0</td>\n",
       "      <td>0</td>\n",
       "      <td>0</td>\n",
       "      <td>0</td>\n",
       "      <td>1</td>\n",
       "      <td>2</td>\n",
       "    </tr>\n",
       "    <tr>\n",
       "      <th>13</th>\n",
       "      <td>0</td>\n",
       "      <td>0</td>\n",
       "      <td>0</td>\n",
       "      <td>0</td>\n",
       "      <td>0</td>\n",
       "      <td>0</td>\n",
       "      <td>1</td>\n",
       "      <td>3</td>\n",
       "    </tr>\n",
       "  </tbody>\n",
       "</table>\n",
       "</div>"
      ],
      "text/plain": [
       "    A01  A02  A03  A04  A05  A06  A07  Categories\n",
       "0     1    1    1    1    1    0    0           1\n",
       "1     1    1    0    1    1    0    0           1\n",
       "2     1    1    1    1    0    1    0           1\n",
       "3     1    1    0    1    0    1    0           1\n",
       "4     1    0    0    0    0    0    1           1\n",
       "5     1    1    1    0    0    0    1           1\n",
       "6     1    1    0    0    0    0    1           1\n",
       "7     1    1    1    1    0    0    0           1\n",
       "8     1    0    0    1    1    0    0           2\n",
       "9     0    1    0    1    1    0    0           2\n",
       "10    1    0    0    1    0    1    0           2\n",
       "11    0    1    0    1    0    1    0           2\n",
       "12    0    1    0    0    0    0    1           2\n",
       "13    0    0    0    0    0    0    1           3"
      ]
     },
     "execution_count": 170,
     "metadata": {},
     "output_type": "execute_result"
    }
   ],
   "source": [
    "df"
   ]
  },
  {
   "cell_type": "code",
   "execution_count": 171,
   "metadata": {},
   "outputs": [
    {
     "data": {
      "text/plain": [
       "0     PUS\n",
       "1     PUS\n",
       "2     PUS\n",
       "3     PUS\n",
       "4     PUS\n",
       "5     PUS\n",
       "6     PUS\n",
       "7     PUS\n",
       "8     PIM\n",
       "9     PIM\n",
       "10    PIM\n",
       "11    PIM\n",
       "12    PIM\n",
       "13    PWS\n",
       "Name: Categories, dtype: object"
      ]
     },
     "execution_count": 171,
     "metadata": {},
     "output_type": "execute_result"
    }
   ],
   "source": [
    "Y_correct"
   ]
  },
  {
   "cell_type": "code",
   "execution_count": 172,
   "metadata": {},
   "outputs": [],
   "source": [
    "def sim(i, j):\n",
    "    s = 0\n",
    "    if df.iloc[i, 1] == df.iloc[j, 1]:\n",
    "        s += 10\n",
    "    if df.iloc[i, 5] == df.iloc[j, 5]:\n",
    "        s += 20\n",
    "    for k in range(2):\n",
    "        if df.iloc[i, k+3] == df.iloc[j, k+3]:\n",
    "            s += 4\n",
    "    s += 10 * (df.iloc[i, 4] * df.iloc[j, 4])\n",
    "    s += df.iloc[i, 6] + df.iloc[j, 6]\n",
    "    return s"
   ]
  },
  {
   "cell_type": "code",
   "execution_count": 173,
   "metadata": {},
   "outputs": [],
   "source": [
    "def dist(i, j):\n",
    "    dist = []\n",
    "    dist=[1,3,4,5,6,6]\n",
    "    for ind in (range(1,7)):\n",
    "        dist.append((df.iloc[i, ind] - df.iloc[j, ind])**2)\n",
    "    return np.sqrt(sum(dist))"
   ]
  },
  {
   "cell_type": "code",
   "execution_count": 174,
   "metadata": {},
   "outputs": [],
   "source": [
    "similarity = np.zeros((14, 14))\n",
    "dists = np.zeros((14, 14))"
   ]
  },
  {
   "cell_type": "code",
   "execution_count": null,
   "metadata": {},
   "outputs": [],
   "source": []
  },
  {
   "cell_type": "code",
   "execution_count": 175,
   "metadata": {},
   "outputs": [],
   "source": [
    "for i in range(14):\n",
    "    for j in range(14):\n",
    "        if i != j:\n",
    "            similarity[i, j] = sim(i, j)\n",
    "            dists[i, j] = dist(i, j)\n",
    "        else:\n",
    "            dists[i, j] = 10"
   ]
  },
  {
   "cell_type": "code",
   "execution_count": 176,
   "metadata": {},
   "outputs": [
    {
     "name": "stdout",
     "output_type": "stream",
     "text": [
      "[[10.          5.09901951  5.19615242  5.29150262  5.47722558  5.29150262\n",
      "   5.38516481  5.09901951  5.19615242  5.09901951  5.38516481  5.29150262\n",
      "   5.38516481  5.47722558]\n",
      " [ 5.09901951 10.          5.29150262  5.19615242  5.38516481  5.38516481\n",
      "   5.29150262  5.19615242  5.09901951  5.          5.29150262  5.19615242\n",
      "   5.29150262  5.38516481]\n",
      " [ 5.19615242  5.29150262 10.          5.09901951  5.47722558  5.29150262\n",
      "   5.38516481  5.09901951  5.38516481  5.29150262  5.19615242  5.09901951\n",
      "   5.38516481  5.47722558]\n",
      " [ 5.29150262  5.19615242  5.09901951 10.          5.38516481  5.38516481\n",
      "   5.29150262  5.19615242  5.29150262  5.19615242  5.09901951  5.\n",
      "   5.29150262  5.38516481]\n",
      " [ 5.47722558  5.38516481  5.47722558  5.38516481 10.          5.19615242\n",
      "   5.09901951  5.38516481  5.29150262  5.38516481  5.29150262  5.38516481\n",
      "   5.09901951  5.        ]\n",
      " [ 5.29150262  5.38516481  5.29150262  5.38516481  5.19615242 10.\n",
      "   5.09901951  5.19615242  5.47722558  5.38516481  5.47722558  5.38516481\n",
      "   5.09901951  5.19615242]\n",
      " [ 5.38516481  5.29150262  5.38516481  5.29150262  5.09901951  5.09901951\n",
      "  10.          5.29150262  5.38516481  5.29150262  5.38516481  5.29150262\n",
      "   5.          5.09901951]\n",
      " [ 5.09901951  5.19615242  5.09901951  5.19615242  5.38516481  5.19615242\n",
      "   5.29150262 10.          5.29150262  5.19615242  5.29150262  5.19615242\n",
      "   5.29150262  5.38516481]\n",
      " [ 5.19615242  5.09901951  5.38516481  5.29150262  5.29150262  5.47722558\n",
      "   5.38516481  5.29150262 10.          5.09901951  5.19615242  5.29150262\n",
      "   5.38516481  5.29150262]\n",
      " [ 5.09901951  5.          5.29150262  5.19615242  5.38516481  5.38516481\n",
      "   5.29150262  5.19615242  5.09901951 10.          5.29150262  5.19615242\n",
      "   5.29150262  5.38516481]\n",
      " [ 5.38516481  5.29150262  5.19615242  5.09901951  5.29150262  5.47722558\n",
      "   5.38516481  5.29150262  5.19615242  5.29150262 10.          5.09901951\n",
      "   5.38516481  5.29150262]\n",
      " [ 5.29150262  5.19615242  5.09901951  5.          5.38516481  5.38516481\n",
      "   5.29150262  5.19615242  5.29150262  5.19615242  5.09901951 10.\n",
      "   5.29150262  5.38516481]\n",
      " [ 5.38516481  5.29150262  5.38516481  5.29150262  5.09901951  5.09901951\n",
      "   5.          5.29150262  5.38516481  5.29150262  5.38516481  5.29150262\n",
      "  10.          5.09901951]\n",
      " [ 5.47722558  5.38516481  5.47722558  5.38516481  5.          5.19615242\n",
      "   5.09901951  5.38516481  5.29150262  5.38516481  5.29150262  5.38516481\n",
      "   5.09901951 10.        ]]\n"
     ]
    }
   ],
   "source": [
    "print(dists)"
   ]
  },
  {
   "cell_type": "code",
   "execution_count": 177,
   "metadata": {},
   "outputs": [],
   "source": [
    "def KNNgraph(n, s):\n",
    "    weights = np.zeros((14, 14))\n",
    "    for a in range(14):\n",
    "        arr = s[a,:]\n",
    "        tmp = np.argpartition(arr, -n)[-n:]\n",
    "        ind = tmp[np.argsort((-arr)[tmp])]\n",
    "        for b in ind:\n",
    "            weights[a, b] = s[a, b]\n",
    "            weights[b, a] = s[a, b]\n",
    "    return weights"
   ]
  },
  {
   "cell_type": "code",
   "execution_count": 178,
   "metadata": {},
   "outputs": [],
   "source": [
    "def neighborhoodGraph(eps, s):\n",
    "    weights = np.zeros((14, 14))\n",
    "    for a in range(14):\n",
    "        for b in range(14):\n",
    "            if dists[a, b] < eps:\n",
    "                weights[a, b] = s[a, b]\n",
    "                weights[b, a] = s[a, b]\n",
    "    return weights"
   ]
  },
  {
   "cell_type": "code",
   "execution_count": 179,
   "metadata": {},
   "outputs": [],
   "source": [
    "def bMatchingGraph(b):\n",
    "    print(cp.installed_solvers())\n",
    "    x = cp.Variable((14, 14), boolean=True, name='x')\n",
    "    objective = sum(dists[a, b] * x[a, b] for a in range(14) for b in range(14))\n",
    "    constraints = []\n",
    "    constraints += [x == x.T]\n",
    "    for s in range(194):\n",
    "        constraints += [np.sum(x[s, :]) == b]\n",
    "        constraints += [x[s, s] == 0]\n",
    "    prob = cp.Problem(cp.Minimize(objective), constraints)\n",
    "    prob.solve(solver='ECOS_BB',verbose=False)\n",
    "    print(x)\n",
    "    print(x.value)\n",
    "    return x"
   ]
  },
  {
   "cell_type": "code",
   "execution_count": 180,
   "metadata": {},
   "outputs": [],
   "source": [
    "w = KNNgraph(4, similarity)"
   ]
  },
  {
   "cell_type": "code",
   "execution_count": 181,
   "metadata": {},
   "outputs": [],
   "source": [
    "class GraphVisualization:\n",
    "    def __init__(self):\n",
    "        # visual is a list which stores all\n",
    "        # the set of edges that constitutes a\n",
    "        # graph\n",
    "        self.visual = []\n",
    "\n",
    "    # addEdge function inputs the vertices of an\n",
    "    # edge and appends it to the visual list\n",
    "    def addEdge(self, a, b):\n",
    "        temp = [a, b]\n",
    "        self.visual.append(temp)\n",
    "\n",
    "    # In visualize function G is an object of\n",
    "    # class Graph given by networkx G.add_edges_from(visual)\n",
    "    # creates a graph with a given list\n",
    "    # nx.draw_networkx(G) - plots the graph\n",
    "    # plt.show() - displays the graph\n",
    "    def visualize(self):\n",
    "        G = nx.Graph()\n",
    "        G.add_edges_from(self.visual)\n",
    "        nx.draw_networkx(G)\n",
    "        plt.show()"
   ]
  },
  {
   "cell_type": "code",
   "execution_count": 182,
   "metadata": {},
   "outputs": [],
   "source": [
    "G = GraphVisualization()"
   ]
  },
  {
   "cell_type": "code",
   "execution_count": 183,
   "metadata": {},
   "outputs": [],
   "source": [
    "for i in range(14):\n",
    "    for j in range(14):\n",
    "        if w[i, j] != 0:\n",
    "            G.addEdge(i, j)"
   ]
  },
  {
   "cell_type": "code",
   "execution_count": 184,
   "metadata": {},
   "outputs": [
    {
     "data": {
      "image/png": "[encoded data removed]",
      "text/plain": [
       "<Figure size 432x288 with 1 Axes>"
      ]
     },
     "metadata": {},
     "output_type": "display_data"
    }
   ],
   "source": [
    "G.visualize()"
   ]
  },
  {
   "cell_type": "code",
   "execution_count": 185,
   "metadata": {},
   "outputs": [],
   "source": [
    "degree = np.zeros((14, 14))\n",
    "for i in range(14):\n",
    "    degree[i][i] = sum(w[i,:])\n"
   ]
  },
  {
   "cell_type": "code",
   "execution_count": 186,
   "metadata": {},
   "outputs": [],
   "source": [
    "laplacian = degree - w"
   ]
  },
  {
   "cell_type": "code",
   "execution_count": 187,
   "metadata": {},
   "outputs": [],
   "source": [
    "from numpy.linalg import matrix_power, inv"
   ]
  },
  {
   "cell_type": "code",
   "execution_count": 188,
   "metadata": {},
   "outputs": [],
   "source": [
    "t = np.sqrt((np.linalg.inv(degree)))\n",
    "norm_laplacian = t @ laplacian @ t\n"
   ]
  },
  {
   "cell_type": "code",
   "execution_count": 189,
   "metadata": {},
   "outputs": [
    {
     "ename": "AttributeError",
     "evalue": "module 'numpy' has no attribute 'norm'",
     "output_type": "error",
     "traceback": [
      "\u001b[0;31m---------------------------------------------------------------------------\u001b[0m",
      "\u001b[0;31mAttributeError\u001b[0m                            Traceback (most recent call last)",
      "\u001b[0;32m/var/folders/l9/6n1gmxmx515cfndb3gm2cyv40000gn/T/ipykernel_30392/3606344860.py\u001b[0m in \u001b[0;36m<module>\u001b[0;34m\u001b[0m\n\u001b[1;32m      2\u001b[0m \u001b[0ms\u001b[0m \u001b[0;34m=\u001b[0m \u001b[0;36m0\u001b[0m\u001b[0;34m\u001b[0m\u001b[0;34m\u001b[0m\u001b[0m\n\u001b[1;32m      3\u001b[0m \u001b[0;32mfor\u001b[0m \u001b[0mi\u001b[0m \u001b[0;32min\u001b[0m \u001b[0mrange\u001b[0m\u001b[0;34m(\u001b[0m\u001b[0;36m14\u001b[0m\u001b[0;34m)\u001b[0m\u001b[0;34m:\u001b[0m\u001b[0;34m\u001b[0m\u001b[0;34m\u001b[0m\u001b[0m\n\u001b[0;32m----> 4\u001b[0;31m     \u001b[0ms\u001b[0m \u001b[0;34m+=\u001b[0m \u001b[0mnp\u001b[0m\u001b[0;34m.\u001b[0m\u001b[0mnorm\u001b[0m\u001b[0;34m(\u001b[0m\u001b[0mY_combined\u001b[0m\u001b[0;34m[\u001b[0m\u001b[0mi\u001b[0m\u001b[0;34m]\u001b[0m \u001b[0;34m-\u001b[0m \u001b[0;34m(\u001b[0m\u001b[0mw\u001b[0m\u001b[0;34m[\u001b[0m\u001b[0mi\u001b[0m\u001b[0;34m,\u001b[0m\u001b[0;34m:\u001b[0m\u001b[0;34m]\u001b[0m\u001b[0;34m.\u001b[0m\u001b[0mdot\u001b[0m\u001b[0;34m(\u001b[0m\u001b[0mY_combined\u001b[0m\u001b[0;34m)\u001b[0m\u001b[0;34m)\u001b[0m\u001b[0;34m)\u001b[0m\u001b[0;34m**\u001b[0m\u001b[0;36m2\u001b[0m\u001b[0;34m\u001b[0m\u001b[0;34m\u001b[0m\u001b[0m\n\u001b[0m",
      "\u001b[0;32m~/miniforge3/envs/newenv/lib/python3.8/site-packages/numpy/__init__.py\u001b[0m in \u001b[0;36m__getattr__\u001b[0;34m(attr)\u001b[0m\n\u001b[1;32m    311\u001b[0m                 \u001b[0;32mreturn\u001b[0m \u001b[0mTester\u001b[0m\u001b[0;34m\u001b[0m\u001b[0;34m\u001b[0m\u001b[0m\n\u001b[1;32m    312\u001b[0m \u001b[0;34m\u001b[0m\u001b[0m\n\u001b[0;32m--> 313\u001b[0;31m             raise AttributeError(\"module {!r} has no attribute \"\n\u001b[0m\u001b[1;32m    314\u001b[0m                                  \"{!r}\".format(__name__, attr))\n\u001b[1;32m    315\u001b[0m \u001b[0;34m\u001b[0m\u001b[0m\n",
      "\u001b[0;31mAttributeError\u001b[0m: module 'numpy' has no attribute 'norm'"
     ]
    }
   ],
   "source": [
    "Y_embed = np.zeros(14)\n",
    "s = 0\n",
    "for i in range(14):\n",
    "    s += np.norm(Y_combined[i] - (w[i,:].dot(Y_combined)))**2"
   ]
  },
  {
   "cell_type": "code",
   "execution_count": 190,
   "metadata": {},
   "outputs": [
    {
     "data": {
      "text/plain": [
       "0     1\n",
       "1     1\n",
       "2     1\n",
       "3     1\n",
       "4     1\n",
       "5     1\n",
       "6     1\n",
       "7     1\n",
       "8     2\n",
       "9     2\n",
       "10    2\n",
       "11    2\n",
       "12    2\n",
       "13    3\n",
       "Name: Categories, dtype: int64"
      ]
     },
     "execution_count": 190,
     "metadata": {},
     "output_type": "execute_result"
    }
   ],
   "source": [
    "Y_embed\n",
    "Y_correct = Y_correct.replace('PUS',1)\n",
    "Y_correct = Y_correct.replace('PIM',2)\n",
    "Y_correct = Y_correct.replace('PWS',3)\n",
    "Y_correct"
   ]
  },
  {
   "cell_type": "code",
   "execution_count": 191,
   "metadata": {},
   "outputs": [],
   "source": [
    "import random\n",
    "indices = []\n",
    "for i in range(14):\n",
    "    indices.append(i)\n",
    "\n",
    "labeled_indices = random.sample(indices, 10)\n",
    "unlabeled_indices = []\n",
    "\n",
    "for j in indices:\n",
    "    if labeled_indices.count(j) == 0:\n",
    "        unlabeled_indices.append(j)"
   ]
  },
  {
   "cell_type": "code",
   "execution_count": 192,
   "metadata": {},
   "outputs": [
    {
     "data": {
      "text/plain": [
       "array([[1, 1, 1, 1, 1, 0, 0, 1],\n",
       "       [1, 1, 0, 1, 1, 0, 0, 1],\n",
       "       [1, 1, 1, 1, 0, 1, 0, 1],\n",
       "       [1, 1, 0, 1, 0, 1, 0, 1],\n",
       "       [1, 0, 0, 0, 0, 0, 1, 1],\n",
       "       [1, 1, 1, 0, 0, 0, 1, 1],\n",
       "       [1, 1, 0, 0, 0, 0, 1, 1],\n",
       "       [1, 1, 1, 1, 0, 0, 0, 1],\n",
       "       [1, 0, 0, 1, 1, 0, 0, 2],\n",
       "       [0, 1, 0, 1, 1, 0, 0, 2],\n",
       "       [1, 0, 0, 1, 0, 1, 0, 2],\n",
       "       [0, 1, 0, 1, 0, 1, 0, 2],\n",
       "       [0, 1, 0, 0, 0, 0, 1, 2],\n",
       "       [0, 0, 0, 0, 0, 0, 1, 3]])"
      ]
     },
     "execution_count": 192,
     "metadata": {},
     "output_type": "execute_result"
    }
   ],
   "source": [
    "Y = np.zeros(10)\n",
    "X = np.zeros((14, 8))\n",
    "Y_true = np.zeros(4)\n",
    "Y_buff = np.zeros(4)\n",
    "arr = np.asarray(df)\n",
    "arr\n"
   ]
  },
  {
   "cell_type": "code",
   "execution_count": 193,
   "metadata": {},
   "outputs": [],
   "source": [
    "\n",
    "for i in range(10):\n",
    "    Y[i] = Y_correct[labeled_indices[i]]\n",
    "    X[i] = arr[labeled_indices[i]]\n",
    "    \n",
    "for j in range(4):\n",
    "    X[10 + j] = arr[unlabeled_indices[j]]\n",
    "    Y_true[j] = Y_correct[unlabeled_indices[j]]\n",
    "\n"
   ]
  },
  {
   "cell_type": "code",
   "execution_count": 194,
   "metadata": {},
   "outputs": [
    {
     "data": {
      "text/plain": [
       "array([2., 1., 1., 2., 1., 1., 1., 2., 2., 3., 0., 0., 0., 0.])"
      ]
     },
     "execution_count": 194,
     "metadata": {},
     "output_type": "execute_result"
    }
   ],
   "source": [
    "Y_combined = np.concatenate((Y, Y_buff), axis = 0)\n",
    "Y_combined"
   ]
  },
  {
   "cell_type": "code",
   "execution_count": 195,
   "metadata": {},
   "outputs": [],
   "source": [
    "Y1 = np.zeros(10)\n",
    "duu = degree[10:, 10:]\n",
    "wuu = w[10:, 10:]\n",
    "wul = w[10:, :10]\n",
    "k = np.linalg.inv(duu - wuu) @ wul\n",
    "pred = k @ Y1\n"
   ]
  },
  {
   "cell_type": "code",
   "execution_count": 196,
   "metadata": {},
   "outputs": [
    {
     "data": {
      "text/plain": [
       "array([1., 1., 1., 2.])"
      ]
     },
     "execution_count": 196,
     "metadata": {},
     "output_type": "execute_result"
    }
   ],
   "source": [
    "Y_true"
   ]
  },
  {
   "cell_type": "code",
   "execution_count": 197,
   "metadata": {},
   "outputs": [
    {
     "name": "stdout",
     "output_type": "stream",
     "text": [
      "0.5359450942898052\n",
      "0.5760869565217391\n",
      "0.37526536027760765\n",
      "0.49935428325441245\n",
      "0.507873009457436\n",
      "0.5321897706822024\n",
      "0.5302712649884228\n",
      "0.539266518398345\n",
      "0.5117085675576378\n",
      "0.4949316673456508\n"
     ]
    }
   ],
   "source": [
    "for i in range(10):\n",
    "    w = KNNgraph(i, similarity)\n",
    "   \n",
    "    degree = np.zeros((14, 14))\n",
    "    for i in range(14):\n",
    "        degree[i][i] = sum(w[i,:])\n",
    "    duu = degree[10:, 10:]\n",
    "    wuu = w[10:, 10:]\n",
    "    wul = w[10:, :10]\n",
    "    k = np.linalg.inv(duu - wuu) @ wul\n",
    "    pred = k @ Y     \n",
    "    print(np.sum(np.abs(Y_true - pred))/4)"
   ]
  },
  {
   "cell_type": "code",
   "execution_count": 198,
   "metadata": {},
   "outputs": [
    {
     "data": {
      "text/plain": [
       "array([[345.,   0.,   0.,   0.,   0.,   0.,   0.,   0.,   0.,   0.,   0.,\n",
       "          0.,   0.,   0.],\n",
       "       [  0., 345.,   0.,   0.,   0.,   0.,   0.,   0.,   0.,   0.,   0.,\n",
       "          0.,   0.,   0.],\n",
       "       [  0.,   0., 195.,   0.,   0.,   0.,   0.,   0.,   0.,   0.,   0.,\n",
       "          0.,   0.,   0.],\n",
       "       [  0.,   0.,   0., 195.,   0.,   0.,   0.,   0.,   0.,   0.,   0.,\n",
       "          0.,   0.,   0.],\n",
       "       [  0.,   0.,   0.,   0., 264.,   0.,   0.,   0.,   0.,   0.,   0.,\n",
       "          0.,   0.,   0.],\n",
       "       [  0.,   0.,   0.,   0.,   0., 339.,   0.,   0.,   0.,   0.,   0.,\n",
       "          0.,   0.,   0.],\n",
       "       [  0.,   0.,   0.,   0.,   0.,   0., 339.,   0.,   0.,   0.,   0.,\n",
       "          0.,   0.,   0.],\n",
       "       [  0.,   0.,   0.,   0.,   0.,   0.,   0., 343.,   0.,   0.,   0.,\n",
       "          0.,   0.,   0.],\n",
       "       [  0.,   0.,   0.,   0.,   0.,   0.,   0.,   0., 277.,   0.,   0.,\n",
       "          0.,   0.,   0.],\n",
       "       [  0.,   0.,   0.,   0.,   0.,   0.,   0.,   0.,   0., 303.,   0.,\n",
       "          0.,   0.,   0.],\n",
       "       [  0.,   0.,   0.,   0.,   0.,   0.,   0.,   0.,   0.,   0., 146.,\n",
       "          0.,   0.,   0.],\n",
       "       [  0.,   0.,   0.,   0.,   0.,   0.,   0.,   0.,   0.,   0.,   0.,\n",
       "        195.,   0.,   0.],\n",
       "       [  0.,   0.,   0.,   0.,   0.,   0.,   0.,   0.,   0.,   0.,   0.,\n",
       "          0., 334.,   0.],\n",
       "       [  0.,   0.,   0.,   0.,   0.,   0.,   0.,   0.,   0.,   0.,   0.,\n",
       "          0.,   0., 264.]])"
      ]
     },
     "execution_count": 198,
     "metadata": {},
     "output_type": "execute_result"
    }
   ],
   "source": [
    "degree"
   ]
  },
  {
   "cell_type": "code",
   "execution_count": 200,
   "metadata": {},
   "outputs": [],
   "source": [
    "def LGC(w, deg):\n",
    "    y_pred = cp.Variable(14)\n",
    "    objective = 0\n",
    "    constraints = []\n",
    "    for i in range(14):\n",
    "        constraints += [y_pred[i] >=0]\n",
    "        constraints += [y_pred[i] <=7]\n",
    "    \n",
    "        for j in range(14):\n",
    "            t = w[i, j]*((1/np.sqrt(deg[i,i])*y_pred[i]) - (1/np.sqrt(deg[j, j])*y_pred[j]))**2\n",
    "            objective += t\n",
    "    objective += sum((y_pred[:10] - Y)**2)\n",
    "    prob = cp.Problem(cp.Minimize(objective), constraints)\n",
    "    prob.solve(solver=cp.OSQP)\n",
    "    return y_pred.value\n"
   ]
  },
  {
   "cell_type": "code",
   "execution_count": 203,
   "metadata": {},
   "outputs": [],
   "source": [
    "x = LGC(w, degree)\n",
    "# print(y_pred.value)"
   ]
  },
  {
   "cell_type": "code",
   "execution_count": 206,
   "metadata": {},
   "outputs": [
    {
     "data": {
      "text/plain": [
       "array([1.82324197, 1.51820218, 1.20569662, 1.50070419, 1.33703245,\n",
       "       1.47836972, 1.47836972, 1.8052302 , 1.69330389, 2.04508549,\n",
       "       1.12783485, 1.29177139, 1.67943572, 1.48337548])"
      ]
     },
     "execution_count": 206,
     "metadata": {},
     "output_type": "execute_result"
    }
   ],
   "source": [
    "x"
   ]
  },
  {
   "cell_type": "code",
   "execution_count": 208,
   "metadata": {},
   "outputs": [
    {
     "name": "stdout",
     "output_type": "stream",
     "text": [
      "0.4039166202186645\n"
     ]
    }
   ],
   "source": [
    "p = x\n",
    "print(np.sum(np.abs(Y_true - p[10:]))/4)"
   ]
  },
  {
   "cell_type": "code",
   "execution_count": 209,
   "metadata": {},
   "outputs": [
    {
     "name": "stdout",
     "output_type": "stream",
     "text": [
      "0.4278616868129574\n",
      "1.0129983516244698\n",
      "0.4525297062653373\n",
      "0.4637896019379282\n",
      "0.3953250203381764\n",
      "0.4928752763115165\n",
      "0.4710896950218696\n",
      "0.45985203659094753\n",
      "0.42301308290829315\n",
      "0.4039166202186645\n"
     ]
    }
   ],
   "source": [
    "for i in range(10):\n",
    "    w = KNNgraph(i, similarity)\n",
    "    deg = np.zeros((14, 14))\n",
    "    for i in range(14):\n",
    "        deg[i][i] = sum(w[i,:])\n",
    "    val = LGC(w, deg)\n",
    "    print(np.sum(np.abs(Y_true - val[10:]))/4)\n"
   ]
  },
  {
   "cell_type": "code",
   "execution_count": 220,
   "metadata": {},
   "outputs": [
    {
     "data": {
      "text/html": [
       "<div>\n",
       "<style scoped>\n",
       "    .dataframe tbody tr th:only-of-type {\n",
       "        vertical-align: middle;\n",
       "    }\n",
       "\n",
       "    .dataframe tbody tr th {\n",
       "        vertical-align: top;\n",
       "    }\n",
       "\n",
       "    .dataframe thead th {\n",
       "        text-align: right;\n",
       "    }\n",
       "</style>\n",
       "<table border=\"1\" class=\"dataframe\">\n",
       "  <thead>\n",
       "    <tr style=\"text-align: right;\">\n",
       "      <th></th>\n",
       "      <th>A01</th>\n",
       "      <th>A02</th>\n",
       "      <th>A03</th>\n",
       "      <th>A04</th>\n",
       "      <th>A05</th>\n",
       "      <th>A06</th>\n",
       "      <th>A07</th>\n",
       "      <th>Categories</th>\n",
       "      <th>row_num</th>\n",
       "    </tr>\n",
       "  </thead>\n",
       "  <tbody>\n",
       "    <tr>\n",
       "      <th>0</th>\n",
       "      <td>1</td>\n",
       "      <td>1</td>\n",
       "      <td>1</td>\n",
       "      <td>1</td>\n",
       "      <td>1</td>\n",
       "      <td>0</td>\n",
       "      <td>0</td>\n",
       "      <td>1</td>\n",
       "      <td>0</td>\n",
       "    </tr>\n",
       "    <tr>\n",
       "      <th>1</th>\n",
       "      <td>1</td>\n",
       "      <td>1</td>\n",
       "      <td>0</td>\n",
       "      <td>1</td>\n",
       "      <td>1</td>\n",
       "      <td>0</td>\n",
       "      <td>0</td>\n",
       "      <td>1</td>\n",
       "      <td>1</td>\n",
       "    </tr>\n",
       "    <tr>\n",
       "      <th>2</th>\n",
       "      <td>1</td>\n",
       "      <td>1</td>\n",
       "      <td>1</td>\n",
       "      <td>1</td>\n",
       "      <td>0</td>\n",
       "      <td>1</td>\n",
       "      <td>0</td>\n",
       "      <td>1</td>\n",
       "      <td>2</td>\n",
       "    </tr>\n",
       "    <tr>\n",
       "      <th>3</th>\n",
       "      <td>1</td>\n",
       "      <td>1</td>\n",
       "      <td>0</td>\n",
       "      <td>1</td>\n",
       "      <td>0</td>\n",
       "      <td>1</td>\n",
       "      <td>0</td>\n",
       "      <td>1</td>\n",
       "      <td>3</td>\n",
       "    </tr>\n",
       "    <tr>\n",
       "      <th>4</th>\n",
       "      <td>1</td>\n",
       "      <td>0</td>\n",
       "      <td>0</td>\n",
       "      <td>0</td>\n",
       "      <td>0</td>\n",
       "      <td>0</td>\n",
       "      <td>1</td>\n",
       "      <td>1</td>\n",
       "      <td>4</td>\n",
       "    </tr>\n",
       "    <tr>\n",
       "      <th>5</th>\n",
       "      <td>1</td>\n",
       "      <td>1</td>\n",
       "      <td>1</td>\n",
       "      <td>0</td>\n",
       "      <td>0</td>\n",
       "      <td>0</td>\n",
       "      <td>1</td>\n",
       "      <td>1</td>\n",
       "      <td>5</td>\n",
       "    </tr>\n",
       "    <tr>\n",
       "      <th>6</th>\n",
       "      <td>1</td>\n",
       "      <td>1</td>\n",
       "      <td>0</td>\n",
       "      <td>0</td>\n",
       "      <td>0</td>\n",
       "      <td>0</td>\n",
       "      <td>1</td>\n",
       "      <td>1</td>\n",
       "      <td>6</td>\n",
       "    </tr>\n",
       "    <tr>\n",
       "      <th>7</th>\n",
       "      <td>1</td>\n",
       "      <td>1</td>\n",
       "      <td>1</td>\n",
       "      <td>1</td>\n",
       "      <td>0</td>\n",
       "      <td>0</td>\n",
       "      <td>0</td>\n",
       "      <td>1</td>\n",
       "      <td>7</td>\n",
       "    </tr>\n",
       "    <tr>\n",
       "      <th>8</th>\n",
       "      <td>1</td>\n",
       "      <td>0</td>\n",
       "      <td>0</td>\n",
       "      <td>1</td>\n",
       "      <td>1</td>\n",
       "      <td>0</td>\n",
       "      <td>0</td>\n",
       "      <td>2</td>\n",
       "      <td>8</td>\n",
       "    </tr>\n",
       "    <tr>\n",
       "      <th>9</th>\n",
       "      <td>0</td>\n",
       "      <td>1</td>\n",
       "      <td>0</td>\n",
       "      <td>1</td>\n",
       "      <td>1</td>\n",
       "      <td>0</td>\n",
       "      <td>0</td>\n",
       "      <td>2</td>\n",
       "      <td>9</td>\n",
       "    </tr>\n",
       "    <tr>\n",
       "      <th>10</th>\n",
       "      <td>1</td>\n",
       "      <td>0</td>\n",
       "      <td>0</td>\n",
       "      <td>1</td>\n",
       "      <td>0</td>\n",
       "      <td>1</td>\n",
       "      <td>0</td>\n",
       "      <td>2</td>\n",
       "      <td>10</td>\n",
       "    </tr>\n",
       "    <tr>\n",
       "      <th>11</th>\n",
       "      <td>0</td>\n",
       "      <td>1</td>\n",
       "      <td>0</td>\n",
       "      <td>1</td>\n",
       "      <td>0</td>\n",
       "      <td>1</td>\n",
       "      <td>0</td>\n",
       "      <td>2</td>\n",
       "      <td>11</td>\n",
       "    </tr>\n",
       "    <tr>\n",
       "      <th>12</th>\n",
       "      <td>0</td>\n",
       "      <td>1</td>\n",
       "      <td>0</td>\n",
       "      <td>0</td>\n",
       "      <td>0</td>\n",
       "      <td>0</td>\n",
       "      <td>1</td>\n",
       "      <td>2</td>\n",
       "      <td>12</td>\n",
       "    </tr>\n",
       "    <tr>\n",
       "      <th>13</th>\n",
       "      <td>0</td>\n",
       "      <td>0</td>\n",
       "      <td>0</td>\n",
       "      <td>0</td>\n",
       "      <td>0</td>\n",
       "      <td>0</td>\n",
       "      <td>1</td>\n",
       "      <td>3</td>\n",
       "      <td>13</td>\n",
       "    </tr>\n",
       "  </tbody>\n",
       "</table>\n",
       "</div>"
      ],
      "text/plain": [
       "    A01  A02  A03  A04  A05  A06  A07  Categories  row_num\n",
       "0     1    1    1    1    1    0    0           1        0\n",
       "1     1    1    0    1    1    0    0           1        1\n",
       "2     1    1    1    1    0    1    0           1        2\n",
       "3     1    1    0    1    0    1    0           1        3\n",
       "4     1    0    0    0    0    0    1           1        4\n",
       "5     1    1    1    0    0    0    1           1        5\n",
       "6     1    1    0    0    0    0    1           1        6\n",
       "7     1    1    1    1    0    0    0           1        7\n",
       "8     1    0    0    1    1    0    0           2        8\n",
       "9     0    1    0    1    1    0    0           2        9\n",
       "10    1    0    0    1    0    1    0           2       10\n",
       "11    0    1    0    1    0    1    0           2       11\n",
       "12    0    1    0    0    0    0    1           2       12\n",
       "13    0    0    0    0    0    0    1           3       13"
      ]
     },
     "execution_count": 220,
     "metadata": {},
     "output_type": "execute_result"
    }
   ],
   "source": [
    "df\n",
    "df['row_num'] = np.arange(len(df))\n",
    "df"
   ]
  },
  {
   "cell_type": "code",
   "execution_count": 239,
   "metadata": {},
   "outputs": [],
   "source": [
    "from karateclub import DeepWalk\n",
    "import networkx as nx\n",
    "G1 = nx.from_pandas_edgelist(df, \"row_num\", \"Categories\", create_using=nx.Graph())\n",
    "model = DeepWalk(walk_length=10, dimensions=7, window_size=5)\n",
    "model.fit(G1)\n",
    "embedding = model.get_embedding()"
   ]
  },
  {
   "cell_type": "code",
   "execution_count": 240,
   "metadata": {},
   "outputs": [
    {
     "name": "stdout",
     "output_type": "stream",
     "text": [
      "(14, 7)\n"
     ]
    }
   ],
   "source": [
    "print(embedding.shape)\n",
    "nodes = list(range(10))"
   ]
  },
  {
   "cell_type": "code",
   "execution_count": 241,
   "metadata": {},
   "outputs": [],
   "source": [
    "from sklearn.decomposition import PCA\n",
    "def plot_nodes(node_no):\n",
    "    X = embedding[node_no]\n",
    "      \n",
    "    pca = PCA(n_components=2)\n",
    "    pca_out= pca.fit_transform(X)\n",
    "      \n",
    "      \n",
    "    plt.figure(figsize=(15,10))\n",
    "    plt.scatter(pca_out[:, 0], pca_out[:, 1])\n",
    "    for i, node in enumerate(node_no):\n",
    "        plt.annotate(node, (pca_out[i, 0], pca_out[i, 1]))\n",
    "    plt.xlabel('Label_1')\n",
    "    plt.ylabel('label_2')\n",
    "    plt.show()\n"
   ]
  },
  {
   "cell_type": "code",
   "execution_count": 242,
   "metadata": {},
   "outputs": [
    {
     "data": {
      "image/png": "[encoded data removed]",
      "text/plain": [
       "<Figure size 1080x720 with 1 Axes>"
      ]
     },
     "metadata": {
      "needs_background": "light"
     },
     "output_type": "display_data"
    }
   ],
   "source": [
    "plot_nodes(nodes)"
   ]
  },
  {
   "cell_type": "code",
   "execution_count": null,
   "metadata": {},
   "outputs": [],
   "source": []
  }
 ],
 "metadata": {
  "kernelspec": {
   "display_name": "Python 3 (ipykernel)",
   "language": "python",
   "name": "python3"
  },
  "language_info": {
   "codemirror_mode": {
    "name": "ipython",
    "version": 3
   },
   "file_extension": ".py",
   "mimetype": "text/x-python",
   "name": "python",
   "nbconvert_exporter": "python",
   "pygments_lexer": "ipython3",
   "version": "3.8.12"
  }
 },
 "nbformat": 4,
 "nbformat_minor": 2
}
