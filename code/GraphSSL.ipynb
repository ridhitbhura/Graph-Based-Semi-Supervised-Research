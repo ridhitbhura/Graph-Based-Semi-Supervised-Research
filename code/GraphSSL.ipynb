{
 "cells": [
  {
   "cell_type": "code",
   "execution_count": 2,
   "id": "bed96b65",
   "metadata": {},
   "outputs": [],
   "source": [
    "import pandas as pd\n",
    "import numpy as np\n",
    "import matplotlib.pyplot as plt\n",
    "import networkx as nx\n",
    "\n"
   ]
  },
  {
   "cell_type": "code",
   "execution_count": 5,
   "id": "87df5f8f",
   "metadata": {
    "scrolled": true
   },
   "outputs": [
    {
     "name": "stdout",
     "output_type": "stream",
     "text": [
      "Collecting package metadata (current_repodata.json): done\n",
      "Solving environment: done\n",
      "\n",
      "# All requested packages already installed.\n",
      "\n",
      "\n",
      "Note: you may need to restart the kernel to use updated packages.\n"
     ]
    }
   ],
   "source": [
    "conda install -c conda-forge cvxpy"
   ]
  },
  {
   "cell_type": "code",
   "execution_count": 3,
   "id": "6251fdb0",
   "metadata": {
    "scrolled": true
   },
   "outputs": [],
   "source": [
    "import cvxpy as cp"
   ]
  },
  {
   "cell_type": "code",
   "execution_count": 4,
   "id": "20009010",
   "metadata": {},
   "outputs": [],
   "source": [
    "df = pd.read_csv(\"/Users/ishaanchansarkar/Downloads/flag.csv\")"
   ]
  },
  {
   "cell_type": "code",
   "execution_count": 5,
   "id": "ec25e417",
   "metadata": {
    "scrolled": false
   },
   "outputs": [
    {
     "name": "stdout",
     "output_type": "stream",
     "text": [
      "[2 6 1 0 5 3 4 7]\n"
     ]
    }
   ],
   "source": [
    "Y_correct = df['Religion']\n",
    "print(Y_correct.unique())"
   ]
  },
  {
   "cell_type": "code",
   "execution_count": 6,
   "id": "29929c0a",
   "metadata": {},
   "outputs": [],
   "source": [
    "import random\n",
    "indices = []\n",
    "for i in range(194):\n",
    "    indices.append(i)\n",
    "\n",
    "labeled_indices = random.sample(indices, 100)\n",
    "unlabeled_indices = []\n",
    "\n",
    "for j in indices:\n",
    "    if labeled_indices.count(j) == 0:\n",
    "        unlabeled_indices.append(j)\n",
    "\n"
   ]
  },
  {
   "cell_type": "code",
   "execution_count": 7,
   "id": "cc2b0370",
   "metadata": {},
   "outputs": [
    {
     "data": {
      "text/html": [
       "<div>\n",
       "<style scoped>\n",
       "    .dataframe tbody tr th:only-of-type {\n",
       "        vertical-align: middle;\n",
       "    }\n",
       "\n",
       "    .dataframe tbody tr th {\n",
       "        vertical-align: top;\n",
       "    }\n",
       "\n",
       "    .dataframe thead th {\n",
       "        text-align: right;\n",
       "    }\n",
       "</style>\n",
       "<table border=\"1\" class=\"dataframe\">\n",
       "  <thead>\n",
       "    <tr style=\"text-align: right;\">\n",
       "      <th></th>\n",
       "      <th>Landmass</th>\n",
       "      <th>Language</th>\n",
       "      <th>Red</th>\n",
       "      <th>Green</th>\n",
       "      <th>Blue</th>\n",
       "      <th>Gold</th>\n",
       "      <th>White</th>\n",
       "      <th>Black</th>\n",
       "      <th>Orange</th>\n",
       "      <th>Crosses</th>\n",
       "      <th>Sunstars</th>\n",
       "    </tr>\n",
       "  </thead>\n",
       "  <tbody>\n",
       "    <tr>\n",
       "      <th>0</th>\n",
       "      <td>5</td>\n",
       "      <td>10</td>\n",
       "      <td>1</td>\n",
       "      <td>1</td>\n",
       "      <td>0</td>\n",
       "      <td>1</td>\n",
       "      <td>1</td>\n",
       "      <td>1</td>\n",
       "      <td>0</td>\n",
       "      <td>0</td>\n",
       "      <td>1</td>\n",
       "    </tr>\n",
       "    <tr>\n",
       "      <th>1</th>\n",
       "      <td>3</td>\n",
       "      <td>6</td>\n",
       "      <td>1</td>\n",
       "      <td>0</td>\n",
       "      <td>0</td>\n",
       "      <td>1</td>\n",
       "      <td>0</td>\n",
       "      <td>1</td>\n",
       "      <td>0</td>\n",
       "      <td>0</td>\n",
       "      <td>1</td>\n",
       "    </tr>\n",
       "    <tr>\n",
       "      <th>2</th>\n",
       "      <td>4</td>\n",
       "      <td>8</td>\n",
       "      <td>1</td>\n",
       "      <td>1</td>\n",
       "      <td>0</td>\n",
       "      <td>0</td>\n",
       "      <td>1</td>\n",
       "      <td>0</td>\n",
       "      <td>0</td>\n",
       "      <td>0</td>\n",
       "      <td>1</td>\n",
       "    </tr>\n",
       "    <tr>\n",
       "      <th>3</th>\n",
       "      <td>6</td>\n",
       "      <td>1</td>\n",
       "      <td>1</td>\n",
       "      <td>0</td>\n",
       "      <td>1</td>\n",
       "      <td>1</td>\n",
       "      <td>1</td>\n",
       "      <td>0</td>\n",
       "      <td>1</td>\n",
       "      <td>0</td>\n",
       "      <td>0</td>\n",
       "    </tr>\n",
       "    <tr>\n",
       "      <th>4</th>\n",
       "      <td>3</td>\n",
       "      <td>6</td>\n",
       "      <td>1</td>\n",
       "      <td>0</td>\n",
       "      <td>1</td>\n",
       "      <td>1</td>\n",
       "      <td>0</td>\n",
       "      <td>0</td>\n",
       "      <td>0</td>\n",
       "      <td>0</td>\n",
       "      <td>0</td>\n",
       "    </tr>\n",
       "    <tr>\n",
       "      <th>...</th>\n",
       "      <td>...</td>\n",
       "      <td>...</td>\n",
       "      <td>...</td>\n",
       "      <td>...</td>\n",
       "      <td>...</td>\n",
       "      <td>...</td>\n",
       "      <td>...</td>\n",
       "      <td>...</td>\n",
       "      <td>...</td>\n",
       "      <td>...</td>\n",
       "      <td>...</td>\n",
       "    </tr>\n",
       "    <tr>\n",
       "      <th>189</th>\n",
       "      <td>6</td>\n",
       "      <td>1</td>\n",
       "      <td>1</td>\n",
       "      <td>0</td>\n",
       "      <td>1</td>\n",
       "      <td>0</td>\n",
       "      <td>1</td>\n",
       "      <td>0</td>\n",
       "      <td>0</td>\n",
       "      <td>0</td>\n",
       "      <td>5</td>\n",
       "    </tr>\n",
       "    <tr>\n",
       "      <th>190</th>\n",
       "      <td>3</td>\n",
       "      <td>6</td>\n",
       "      <td>1</td>\n",
       "      <td>0</td>\n",
       "      <td>1</td>\n",
       "      <td>1</td>\n",
       "      <td>1</td>\n",
       "      <td>0</td>\n",
       "      <td>0</td>\n",
       "      <td>0</td>\n",
       "      <td>1</td>\n",
       "    </tr>\n",
       "    <tr>\n",
       "      <th>191</th>\n",
       "      <td>4</td>\n",
       "      <td>10</td>\n",
       "      <td>1</td>\n",
       "      <td>1</td>\n",
       "      <td>0</td>\n",
       "      <td>1</td>\n",
       "      <td>0</td>\n",
       "      <td>0</td>\n",
       "      <td>1</td>\n",
       "      <td>0</td>\n",
       "      <td>0</td>\n",
       "    </tr>\n",
       "    <tr>\n",
       "      <th>192</th>\n",
       "      <td>4</td>\n",
       "      <td>10</td>\n",
       "      <td>1</td>\n",
       "      <td>1</td>\n",
       "      <td>0</td>\n",
       "      <td>0</td>\n",
       "      <td>0</td>\n",
       "      <td>1</td>\n",
       "      <td>1</td>\n",
       "      <td>0</td>\n",
       "      <td>0</td>\n",
       "    </tr>\n",
       "    <tr>\n",
       "      <th>193</th>\n",
       "      <td>4</td>\n",
       "      <td>10</td>\n",
       "      <td>1</td>\n",
       "      <td>1</td>\n",
       "      <td>0</td>\n",
       "      <td>1</td>\n",
       "      <td>1</td>\n",
       "      <td>1</td>\n",
       "      <td>0</td>\n",
       "      <td>0</td>\n",
       "      <td>1</td>\n",
       "    </tr>\n",
       "  </tbody>\n",
       "</table>\n",
       "<p>194 rows × 11 columns</p>\n",
       "</div>"
      ],
      "text/plain": [
       "     Landmass  Language  Red  Green  Blue  Gold  White  Black  Orange  \\\n",
       "0           5        10    1      1     0     1      1      1       0   \n",
       "1           3         6    1      0     0     1      0      1       0   \n",
       "2           4         8    1      1     0     0      1      0       0   \n",
       "3           6         1    1      0     1     1      1      0       1   \n",
       "4           3         6    1      0     1     1      0      0       0   \n",
       "..        ...       ...  ...    ...   ...   ...    ...    ...     ...   \n",
       "189         6         1    1      0     1     0      1      0       0   \n",
       "190         3         6    1      0     1     1      1      0       0   \n",
       "191         4        10    1      1     0     1      0      0       1   \n",
       "192         4        10    1      1     0     0      0      1       1   \n",
       "193         4        10    1      1     0     1      1      1       0   \n",
       "\n",
       "     Crosses  Sunstars  \n",
       "0          0         1  \n",
       "1          0         1  \n",
       "2          0         1  \n",
       "3          0         0  \n",
       "4          0         0  \n",
       "..       ...       ...  \n",
       "189        0         5  \n",
       "190        0         1  \n",
       "191        0         0  \n",
       "192        0         0  \n",
       "193        0         1  \n",
       "\n",
       "[194 rows x 11 columns]"
      ]
     },
     "execution_count": 7,
     "metadata": {},
     "output_type": "execute_result"
    }
   ],
   "source": [
    "df_filter = df[['Landmass', 'Language', 'Red', 'Green', 'Blue', 'Gold',\n",
    "              'White', 'Black', 'Orange', 'Crosses', 'Sunstars']]\n",
    "df_filter"
   ]
  },
  {
   "cell_type": "code",
   "execution_count": 8,
   "id": "0583a20a",
   "metadata": {},
   "outputs": [],
   "source": [
    "Y = np.zeros(100)\n",
    "X = np.zeros((194, 11))\n",
    "Y_true = np.zeros(94)\n",
    "Y_buff = np.zeros(94)\n",
    "arr = np.asarray(df_filter)\n",
    "\n",
    "\n",
    "for i in range(100):\n",
    "    Y[i] = Y_correct[labeled_indices[i]]\n",
    "    X[i] = arr[labeled_indices[i]]\n",
    "    \n",
    "for j in range(94):\n",
    "    X[100 + j] = arr[unlabeled_indices[j]]\n",
    "    Y_true[j] = Y_correct[unlabeled_indices[j]]\n",
    "    \n"
   ]
  },
  {
   "cell_type": "code",
   "execution_count": 9,
   "id": "8ecee840",
   "metadata": {},
   "outputs": [
    {
     "data": {
      "text/plain": [
       "array([1., 2., 0., 2., 0., 2., 1., 1., 1., 0., 1., 2., 1., 2., 1., 6., 5.,\n",
       "       1., 2., 0., 0., 5., 0., 6., 1., 1., 2., 3., 1., 1., 2., 2., 6., 5.,\n",
       "       2., 2., 1., 3., 5., 0., 0., 1., 0., 3., 0., 0., 5., 5., 4., 0., 2.,\n",
       "       5., 2., 6., 2., 3., 2., 1., 6., 0., 0., 5., 1., 2., 0., 6., 5., 7.,\n",
       "       6., 1., 4., 7., 7., 1., 1., 5., 7., 0., 2., 1., 1., 5., 0., 5., 6.,\n",
       "       0., 1., 1., 1., 0., 1., 1., 1., 5., 2., 2., 6., 2., 2., 6., 0., 0.,\n",
       "       0., 0., 0., 0., 0., 0., 0., 0., 0., 0., 0., 0., 0., 0., 0., 0., 0.,\n",
       "       0., 0., 0., 0., 0., 0., 0., 0., 0., 0., 0., 0., 0., 0., 0., 0., 0.,\n",
       "       0., 0., 0., 0., 0., 0., 0., 0., 0., 0., 0., 0., 0., 0., 0., 0., 0.,\n",
       "       0., 0., 0., 0., 0., 0., 0., 0., 0., 0., 0., 0., 0., 0., 0., 0., 0.,\n",
       "       0., 0., 0., 0., 0., 0., 0., 0., 0., 0., 0., 0., 0., 0., 0., 0., 0.,\n",
       "       0., 0., 0., 0., 0., 0., 0.])"
      ]
     },
     "execution_count": 9,
     "metadata": {},
     "output_type": "execute_result"
    }
   ],
   "source": [
    "Y_combined = np.concatenate((Y, Y_buff), axis = 0)\n",
    "Y_combined"
   ]
  },
  {
   "cell_type": "code",
   "execution_count": 37,
   "id": "59d9251d",
   "metadata": {},
   "outputs": [],
   "source": [
    "def sim(i, j):\n",
    "    s = 0\n",
    "    if df_filter.iloc[i, 0] == df_filter.iloc[j, 0]:\n",
    "        s += 10\n",
    "    if df_filter.iloc[i, 1] == df_filter.iloc[j, 1]:\n",
    "        s += 20\n",
    "    for k in range(7):\n",
    "        if df_filter.iloc[i, k+2] == df_filter.iloc[j, k+2]:\n",
    "            s += 4\n",
    "    s += 10 * (df_filter.iloc[i, 9] * df_filter.iloc[j, 9])\n",
    "    s += df_filter.iloc[i, 10] + df_filter.iloc[j, 10]\n",
    "    return s\n",
    "\n",
    "  \n",
    "    \n",
    "        \n",
    "def dist(i, j): \n",
    "    dist = []\n",
    "    for ind in range(11):\n",
    "        dist.append((df_filter.iloc[i, ind] - df_filter.iloc[j, ind])**2)\n",
    "    #if(sum(dist)==0):\n",
    "    #    return 0.001\n",
    "    return np.sqrt(sum(dist))\n",
    "\n",
    "\n"
   ]
  },
  {
   "cell_type": "code",
   "execution_count": 38,
   "id": "894e47a1",
   "metadata": {},
   "outputs": [],
   "source": [
    "similarity = np.zeros((194, 194))\n",
    "dists = np.zeros((194, 194))\n",
    "\n",
    "for i in range(194):\n",
    "    for j in range(194):\n",
    "        if i != j:\n",
    "            similarity[i, j] = sim(i, j)\n",
    "            dists[i, j] = dist(i, j)\n",
    "        else:\n",
    "            dists[i, j] = 10"
   ]
  },
  {
   "cell_type": "code",
   "execution_count": null,
   "id": "3e038e5d",
   "metadata": {},
   "outputs": [],
   "source": [
    "def KNNgraph(n, s):\n",
    "    weights = np.zeros((194, 194))\n",
    "    for a in range(194):\n",
    "        arr = s[a,:]\n",
    "        tmp = np.argpartition(arr, -n)[-n:]\n",
    "        ind = tmp[np.argsort((-arr)[tmp])]\n",
    "        for b in ind:\n",
    "            weights[a, b] = s[a, b]\n",
    "            weights[b, a] = s[a, b]\n",
    "    return weights\n",
    "\n",
    "\n",
    "def neighborhoodGraph(eps, s):\n",
    "    weights = np.zeros((194, 194))\n",
    "    for a in range(194):\n",
    "        for b in range(194):\n",
    "            if dists[a, b] < eps:\n",
    "                weights[a, b] = s[a, b]\n",
    "                weights[b, a] = s[a, b]\n",
    "    return weights\n",
    "\n",
    "def bMatchingGraph(b):\n",
    "    x = cp.Variable((194, 194), name='x')\n",
    "    objective = sum(dists[a, b] * x[a, b] for a in range(194) for b in range(194))\n",
    "    constraints = []\n",
    "    constraints += [x == x.T]\n",
    "    for s in range(194):\n",
    "        constraints += [np.sum(x[s, :]) == b]\n",
    "        constraints += [x[s, s] == 0]\n",
    "        for t in range(194):\n",
    "            constraints += [x[s, t]>=0]\n",
    "            constraints += [x[s, t]<=1]\n",
    "            \n",
    "\n",
    "    prob = cp.Problem(cp.Minimize(objective), constraints)\n",
    "   \n",
    "\n",
    "    return prob"
   ]
  },
  {
   "cell_type": "code",
   "execution_count": 14,
   "id": "2321603f",
   "metadata": {},
   "outputs": [],
   "source": [
    "class GraphVisualization:\n",
    "\n",
    "    def __init__(self):\n",
    "        # visual is a list which stores all\n",
    "        # the set of edges that constitutes a\n",
    "        # graph\n",
    "        self.visual = []\n",
    "\n",
    "    # addEdge function inputs the vertices of an\n",
    "    # edge and appends it to the visual list\n",
    "    def addEdge(self, a, b):\n",
    "        temp = [a, b]\n",
    "        self.visual.append(temp)\n",
    "\n",
    "    # In visualize function G is an object of\n",
    "    # class Graph given by networkx G.add_edges_from(visual)\n",
    "    # creates a graph with a given list\n",
    "    # nx.draw_networkx(G) - plots the graph\n",
    "    # plt.show() - displays the graph\n",
    "    def visualize(self):\n",
    "        G = nx.Graph()\n",
    "        G.add_edges_from(self.visual)\n",
    "        nx.draw_networkx(G)\n",
    "        plt.show()"
   ]
  },
  {
   "cell_type": "code",
   "execution_count": null,
   "id": "e10b679e",
   "metadata": {},
   "outputs": [],
   "source": [
    "#w = KNNgraph(5, similarity)\n",
    "prob = bMatchingGraph(5)"
   ]
  },
  {
   "cell_type": "code",
   "execution_count": 53,
   "id": "965e7f7d",
   "metadata": {},
   "outputs": [
    {
     "ename": "SolverError",
     "evalue": "The solver SCIP is not installed.",
     "output_type": "error",
     "traceback": [
      "\u001b[0;31m---------------------------------------------------------------------------\u001b[0m",
      "\u001b[0;31mSolverError\u001b[0m                               Traceback (most recent call last)",
      "\u001b[0;32m/var/folders/mn/8112fxqn31j09kv75ts8625c0000gn/T/ipykernel_5941/2951712890.py\u001b[0m in \u001b[0;36m<module>\u001b[0;34m\u001b[0m\n\u001b[0;32m----> 1\u001b[0;31m \u001b[0mprob\u001b[0m\u001b[0;34m.\u001b[0m\u001b[0msolve\u001b[0m\u001b[0;34m(\u001b[0m\u001b[0msolver\u001b[0m\u001b[0;34m=\u001b[0m\u001b[0mcp\u001b[0m\u001b[0;34m.\u001b[0m\u001b[0mSCIP\u001b[0m\u001b[0;34m)\u001b[0m\u001b[0;34m\u001b[0m\u001b[0;34m\u001b[0m\u001b[0m\n\u001b[0m",
      "\u001b[0;32m~/opt/anaconda3/lib/python3.9/site-packages/cvxpy/problems/problem.py\u001b[0m in \u001b[0;36msolve\u001b[0;34m(self, *args, **kwargs)\u001b[0m\n\u001b[1;32m    470\u001b[0m         \u001b[0;32melse\u001b[0m\u001b[0;34m:\u001b[0m\u001b[0;34m\u001b[0m\u001b[0;34m\u001b[0m\u001b[0m\n\u001b[1;32m    471\u001b[0m             \u001b[0msolve_func\u001b[0m \u001b[0;34m=\u001b[0m \u001b[0mProblem\u001b[0m\u001b[0;34m.\u001b[0m\u001b[0m_solve\u001b[0m\u001b[0;34m\u001b[0m\u001b[0;34m\u001b[0m\u001b[0m\n\u001b[0;32m--> 472\u001b[0;31m         \u001b[0;32mreturn\u001b[0m \u001b[0msolve_func\u001b[0m\u001b[0;34m(\u001b[0m\u001b[0mself\u001b[0m\u001b[0;34m,\u001b[0m \u001b[0;34m*\u001b[0m\u001b[0margs\u001b[0m\u001b[0;34m,\u001b[0m \u001b[0;34m**\u001b[0m\u001b[0mkwargs\u001b[0m\u001b[0;34m)\u001b[0m\u001b[0;34m\u001b[0m\u001b[0;34m\u001b[0m\u001b[0m\n\u001b[0m\u001b[1;32m    473\u001b[0m \u001b[0;34m\u001b[0m\u001b[0m\n\u001b[1;32m    474\u001b[0m     \u001b[0;34m@\u001b[0m\u001b[0mclassmethod\u001b[0m\u001b[0;34m\u001b[0m\u001b[0;34m\u001b[0m\u001b[0m\n",
      "\u001b[0;32m~/opt/anaconda3/lib/python3.9/site-packages/cvxpy/problems/problem.py\u001b[0m in \u001b[0;36m_solve\u001b[0;34m(self, solver, warm_start, verbose, gp, qcp, requires_grad, enforce_dpp, **kwargs)\u001b[0m\n\u001b[1;32m    963\u001b[0m                 \u001b[0;32mreturn\u001b[0m \u001b[0mself\u001b[0m\u001b[0;34m.\u001b[0m\u001b[0mvalue\u001b[0m\u001b[0;34m\u001b[0m\u001b[0;34m\u001b[0m\u001b[0m\n\u001b[1;32m    964\u001b[0m \u001b[0;34m\u001b[0m\u001b[0m\n\u001b[0;32m--> 965\u001b[0;31m         data, solving_chain, inverse_data = self.get_problem_data(\n\u001b[0m\u001b[1;32m    966\u001b[0m             solver, gp, enforce_dpp, verbose)\n\u001b[1;32m    967\u001b[0m \u001b[0;34m\u001b[0m\u001b[0m\n",
      "\u001b[0;32m~/opt/anaconda3/lib/python3.9/site-packages/cvxpy/problems/problem.py\u001b[0m in \u001b[0;36mget_problem_data\u001b[0;34m(self, solver, gp, enforce_dpp, verbose)\u001b[0m\n\u001b[1;32m    578\u001b[0m         \u001b[0;32mif\u001b[0m \u001b[0mkey\u001b[0m \u001b[0;34m!=\u001b[0m \u001b[0mself\u001b[0m\u001b[0;34m.\u001b[0m\u001b[0m_cache\u001b[0m\u001b[0;34m.\u001b[0m\u001b[0mkey\u001b[0m\u001b[0;34m:\u001b[0m\u001b[0;34m\u001b[0m\u001b[0;34m\u001b[0m\u001b[0m\n\u001b[1;32m    579\u001b[0m             \u001b[0mself\u001b[0m\u001b[0;34m.\u001b[0m\u001b[0m_cache\u001b[0m\u001b[0;34m.\u001b[0m\u001b[0minvalidate\u001b[0m\u001b[0;34m(\u001b[0m\u001b[0;34m)\u001b[0m\u001b[0;34m\u001b[0m\u001b[0;34m\u001b[0m\u001b[0m\n\u001b[0;32m--> 580\u001b[0;31m             solving_chain = self._construct_chain(\n\u001b[0m\u001b[1;32m    581\u001b[0m                 solver=solver, gp=gp, enforce_dpp=enforce_dpp)\n\u001b[1;32m    582\u001b[0m             \u001b[0mself\u001b[0m\u001b[0;34m.\u001b[0m\u001b[0m_cache\u001b[0m\u001b[0;34m.\u001b[0m\u001b[0mkey\u001b[0m \u001b[0;34m=\u001b[0m \u001b[0mkey\u001b[0m\u001b[0;34m\u001b[0m\u001b[0;34m\u001b[0m\u001b[0m\n",
      "\u001b[0;32m~/opt/anaconda3/lib/python3.9/site-packages/cvxpy/problems/problem.py\u001b[0m in \u001b[0;36m_construct_chain\u001b[0;34m(self, solver, gp, enforce_dpp)\u001b[0m\n\u001b[1;32m    804\u001b[0m         \u001b[0mA\u001b[0m \u001b[0msolving\u001b[0m \u001b[0mchain\u001b[0m\u001b[0;34m\u001b[0m\u001b[0;34m\u001b[0m\u001b[0m\n\u001b[1;32m    805\u001b[0m         \"\"\"\n\u001b[0;32m--> 806\u001b[0;31m         \u001b[0mcandidate_solvers\u001b[0m \u001b[0;34m=\u001b[0m \u001b[0mself\u001b[0m\u001b[0;34m.\u001b[0m\u001b[0m_find_candidate_solvers\u001b[0m\u001b[0;34m(\u001b[0m\u001b[0msolver\u001b[0m\u001b[0;34m=\u001b[0m\u001b[0msolver\u001b[0m\u001b[0;34m,\u001b[0m \u001b[0mgp\u001b[0m\u001b[0;34m=\u001b[0m\u001b[0mgp\u001b[0m\u001b[0;34m)\u001b[0m\u001b[0;34m\u001b[0m\u001b[0;34m\u001b[0m\u001b[0m\n\u001b[0m\u001b[1;32m    807\u001b[0m         \u001b[0mself\u001b[0m\u001b[0;34m.\u001b[0m\u001b[0m_sort_candidate_solvers\u001b[0m\u001b[0;34m(\u001b[0m\u001b[0mcandidate_solvers\u001b[0m\u001b[0;34m)\u001b[0m\u001b[0;34m\u001b[0m\u001b[0;34m\u001b[0m\u001b[0m\n\u001b[1;32m    808\u001b[0m         return construct_solving_chain(self, candidate_solvers, gp=gp,\n",
      "\u001b[0;32m~/opt/anaconda3/lib/python3.9/site-packages/cvxpy/problems/problem.py\u001b[0m in \u001b[0;36m_find_candidate_solvers\u001b[0;34m(self, solver, gp)\u001b[0m\n\u001b[1;32m    687\u001b[0m         \u001b[0;32mif\u001b[0m \u001b[0msolver\u001b[0m \u001b[0;32mis\u001b[0m \u001b[0;32mnot\u001b[0m \u001b[0;32mNone\u001b[0m\u001b[0;34m:\u001b[0m\u001b[0;34m\u001b[0m\u001b[0;34m\u001b[0m\u001b[0m\n\u001b[1;32m    688\u001b[0m             \u001b[0;32mif\u001b[0m \u001b[0msolver\u001b[0m \u001b[0;32mnot\u001b[0m \u001b[0;32min\u001b[0m \u001b[0mslv_def\u001b[0m\u001b[0;34m.\u001b[0m\u001b[0mINSTALLED_SOLVERS\u001b[0m\u001b[0;34m:\u001b[0m\u001b[0;34m\u001b[0m\u001b[0;34m\u001b[0m\u001b[0m\n\u001b[0;32m--> 689\u001b[0;31m                 \u001b[0;32mraise\u001b[0m \u001b[0merror\u001b[0m\u001b[0;34m.\u001b[0m\u001b[0mSolverError\u001b[0m\u001b[0;34m(\u001b[0m\u001b[0;34m\"The solver %s is not installed.\"\u001b[0m \u001b[0;34m%\u001b[0m \u001b[0msolver\u001b[0m\u001b[0;34m)\u001b[0m\u001b[0;34m\u001b[0m\u001b[0;34m\u001b[0m\u001b[0m\n\u001b[0m\u001b[1;32m    690\u001b[0m             \u001b[0;32mif\u001b[0m \u001b[0msolver\u001b[0m \u001b[0;32min\u001b[0m \u001b[0mslv_def\u001b[0m\u001b[0;34m.\u001b[0m\u001b[0mCONIC_SOLVERS\u001b[0m\u001b[0;34m:\u001b[0m\u001b[0;34m\u001b[0m\u001b[0;34m\u001b[0m\u001b[0m\n\u001b[1;32m    691\u001b[0m                 \u001b[0mcandidates\u001b[0m\u001b[0;34m[\u001b[0m\u001b[0;34m'conic_solvers'\u001b[0m\u001b[0;34m]\u001b[0m \u001b[0;34m+=\u001b[0m \u001b[0;34m[\u001b[0m\u001b[0msolver\u001b[0m\u001b[0;34m]\u001b[0m\u001b[0;34m\u001b[0m\u001b[0;34m\u001b[0m\u001b[0m\n",
      "\u001b[0;31mSolverError\u001b[0m: The solver SCIP is not installed."
     ]
    }
   ],
   "source": [
    "prob.solve(solver=cp.OSQP)"
   ]
  },
  {
   "cell_type": "code",
   "execution_count": 15,
   "id": "e6946af4",
   "metadata": {},
   "outputs": [
    {
     "data": {
      "image/png": "[encoded data removed]",
      "text/plain": [
       "<Figure size 432x288 with 1 Axes>"
      ]
     },
     "metadata": {},
     "output_type": "display_data"
    }
   ],
   "source": [
    "G = GraphVisualization()\n",
    "\n",
    "for i in range(194):\n",
    "    for j in range(194):\n",
    "        if w[i, j] != 0:\n",
    "            G.addEdge(i, j)\n",
    "\n",
    "G.visualize()"
   ]
  },
  {
   "cell_type": "code",
   "execution_count": 16,
   "id": "3fb06040",
   "metadata": {},
   "outputs": [],
   "source": [
    "degree = np.zeros((194, 194))\n",
    "for i in range(194):\n",
    "    degree[i][i] = sum(w[i,:])"
   ]
  },
  {
   "cell_type": "code",
   "execution_count": 17,
   "id": "e254ad93",
   "metadata": {},
   "outputs": [],
   "source": [
    "laplacian = degree - w\n"
   ]
  },
  {
   "cell_type": "code",
   "execution_count": 18,
   "id": "6043251c",
   "metadata": {
    "scrolled": false
   },
   "outputs": [],
   "source": [
    "from numpy.linalg import matrix_power, inv\n",
    "#norm_laplacian = np.power(degree, -1/2) @ laplacian @ np.power(degree, -1/2)"
   ]
  },
  {
   "cell_type": "code",
   "execution_count": 19,
   "id": "32e3f84b",
   "metadata": {},
   "outputs": [],
   "source": [
    "t = np.sqrt((np.linalg.inv(degree)))\n",
    "norm_laplacian = t @ laplacian @ t"
   ]
  },
  {
   "cell_type": "code",
   "execution_count": 198,
   "id": "0413db7f",
   "metadata": {},
   "outputs": [
    {
     "ename": "AttributeError",
     "evalue": "module 'numpy' has no attribute 'norm'",
     "output_type": "error",
     "traceback": [
      "\u001b[0;31m---------------------------------------------------------------------------\u001b[0m",
      "\u001b[0;31mAttributeError\u001b[0m                            Traceback (most recent call last)",
      "\u001b[0;32m/var/folders/mn/8112fxqn31j09kv75ts8625c0000gn/T/ipykernel_1661/1319017152.py\u001b[0m in \u001b[0;36m<module>\u001b[0;34m\u001b[0m\n\u001b[1;32m      2\u001b[0m \u001b[0ms\u001b[0m \u001b[0;34m=\u001b[0m \u001b[0;36m0\u001b[0m\u001b[0;34m\u001b[0m\u001b[0;34m\u001b[0m\u001b[0m\n\u001b[1;32m      3\u001b[0m \u001b[0;32mfor\u001b[0m \u001b[0mi\u001b[0m \u001b[0;32min\u001b[0m \u001b[0mrange\u001b[0m\u001b[0;34m(\u001b[0m\u001b[0;36m194\u001b[0m\u001b[0;34m)\u001b[0m\u001b[0;34m:\u001b[0m\u001b[0;34m\u001b[0m\u001b[0;34m\u001b[0m\u001b[0m\n\u001b[0;32m----> 4\u001b[0;31m     \u001b[0ms\u001b[0m \u001b[0;34m+=\u001b[0m \u001b[0mnp\u001b[0m\u001b[0;34m.\u001b[0m\u001b[0mnorm\u001b[0m\u001b[0;34m(\u001b[0m\u001b[0mY_combined\u001b[0m\u001b[0;34m[\u001b[0m\u001b[0mi\u001b[0m\u001b[0;34m]\u001b[0m \u001b[0;34m-\u001b[0m \u001b[0;34m(\u001b[0m\u001b[0mw\u001b[0m\u001b[0;34m[\u001b[0m\u001b[0mi\u001b[0m\u001b[0;34m,\u001b[0m\u001b[0;34m:\u001b[0m\u001b[0;34m]\u001b[0m\u001b[0;34m.\u001b[0m\u001b[0mdot\u001b[0m\u001b[0;34m(\u001b[0m\u001b[0mY_combined\u001b[0m\u001b[0;34m)\u001b[0m\u001b[0;34m)\u001b[0m\u001b[0;34m)\u001b[0m\u001b[0;34m**\u001b[0m\u001b[0;36m2\u001b[0m\u001b[0;34m\u001b[0m\u001b[0;34m\u001b[0m\u001b[0m\n\u001b[0m\u001b[1;32m      5\u001b[0m \u001b[0;34m\u001b[0m\u001b[0m\n",
      "\u001b[0;32m~/opt/anaconda3/lib/python3.9/site-packages/numpy/__init__.py\u001b[0m in \u001b[0;36m__getattr__\u001b[0;34m(attr)\u001b[0m\n\u001b[1;32m    301\u001b[0m                 \u001b[0;32mreturn\u001b[0m \u001b[0mTester\u001b[0m\u001b[0;34m\u001b[0m\u001b[0;34m\u001b[0m\u001b[0m\n\u001b[1;32m    302\u001b[0m \u001b[0;34m\u001b[0m\u001b[0m\n\u001b[0;32m--> 303\u001b[0;31m             raise AttributeError(\"module {!r} has no attribute \"\n\u001b[0m\u001b[1;32m    304\u001b[0m                                  \"{!r}\".format(__name__, attr))\n\u001b[1;32m    305\u001b[0m \u001b[0;34m\u001b[0m\u001b[0m\n",
      "\u001b[0;31mAttributeError\u001b[0m: module 'numpy' has no attribute 'norm'"
     ]
    }
   ],
   "source": [
    "Y_embed = np.zeros(194)\n",
    "s = 0\n",
    "for i in range(194):\n",
    "    s += np.norm(Y_combined[i] - (w[i,:].dot(Y_combined)))**2\n",
    " "
   ]
  },
  {
   "cell_type": "code",
   "execution_count": 119,
   "id": "c77e0d11",
   "metadata": {},
   "outputs": [
    {
     "data": {
      "text/plain": [
       "array([0., 0., 0., 0., 0., 0., 0., 0., 0., 0., 0., 0., 0., 0., 0., 0., 0.,\n",
       "       0., 0., 0., 0., 0., 0., 0., 0., 0., 0., 0., 0., 0., 0., 0., 0., 0.,\n",
       "       0., 0., 0., 0., 0., 0., 0., 0., 0., 0., 0., 0., 0., 0., 0., 0., 0.,\n",
       "       0., 0., 0., 0., 0., 0., 0., 0., 0., 0., 0., 0., 0., 0., 0., 0., 0.,\n",
       "       0., 0., 0., 0., 0., 0., 0., 0., 0., 0., 0., 0., 0., 0., 0., 0., 0.,\n",
       "       0., 0., 0., 0., 0., 0., 0., 0., 0., 0., 0., 0., 0., 0., 0., 0., 0.,\n",
       "       0., 0., 0., 0., 0., 0., 0., 0., 0., 0., 0., 0., 0., 0., 0., 0., 0.,\n",
       "       0., 0., 0., 0., 0., 0., 0., 0., 0., 0., 0., 0., 0., 0., 0., 0., 0.,\n",
       "       0., 0., 0., 0., 0., 0., 0., 0., 0., 0., 0., 0., 0., 0., 0., 0., 0.,\n",
       "       0., 0., 0., 0., 0., 0., 0., 0., 0., 0., 0., 0., 0., 0., 0., 0., 0.,\n",
       "       0., 0., 0., 0., 0., 0., 0., 0., 0., 0., 0., 0., 0., 0., 0., 0., 0.,\n",
       "       0., 0., 0., 0., 0., 0., 0.])"
      ]
     },
     "execution_count": 119,
     "metadata": {},
     "output_type": "execute_result"
    }
   ],
   "source": [
    "Y_embed"
   ]
  },
  {
   "cell_type": "code",
   "execution_count": 199,
   "id": "163fab90",
   "metadata": {},
   "outputs": [],
   "source": [
    "duu = degree[100:, 100:]\n",
    "wuu = w[100:, 100:]\n",
    "wul = w[100:, :100]\n",
    "k = np.linalg.inv(duu - wuu) @ wul\n",
    "pred = k @ Y\n",
    "#pred2 = np.matrix.round(pred)"
   ]
  },
  {
   "cell_type": "code",
   "execution_count": 200,
   "id": "105306cb",
   "metadata": {
    "scrolled": true
   },
   "outputs": [
    {
     "data": {
      "text/plain": [
       "array([2., 1., 0., 1., 1., 0., 1., 1., 1., 5., 0., 6., 5., 1., 0., 1., 5.,\n",
       "       6., 0., 2., 6., 1., 1., 1., 0., 0., 2., 1., 1., 1., 1., 0., 0., 5.,\n",
       "       1., 5., 1., 1., 1., 1., 1., 2., 5., 4., 0., 0., 3., 6., 1., 4., 2.,\n",
       "       1., 5., 2., 2., 0., 2., 2., 0., 1., 1., 1., 0., 2., 6., 2., 2., 0.,\n",
       "       5., 0., 6., 0., 6., 5., 5., 1., 2., 1., 7., 3., 1., 1., 2., 5., 3.,\n",
       "       2., 1., 2., 1., 0., 1., 6., 6., 5.])"
      ]
     },
     "execution_count": 200,
     "metadata": {},
     "output_type": "execute_result"
    }
   ],
   "source": [
    "Y_true"
   ]
  },
  {
   "cell_type": "code",
   "execution_count": 201,
   "id": "21bba2c9",
   "metadata": {},
   "outputs": [
    {
     "name": "stdout",
     "output_type": "stream",
     "text": [
      "Looking in indexes: https://pypi.gurobi.com\n",
      "Requirement already satisfied: gurobipy in /Users/ishaanchansarkar/opt/anaconda3/lib/python3.9/site-packages (9.5.0)\n",
      "Note: you may need to restart the kernel to use updated packages.\n"
     ]
    }
   ],
   "source": [
    "%pip install -i https://pypi.gurobi.com gurobipy;\n",
    "import gurobipy"
   ]
  },
  {
   "cell_type": "code",
   "execution_count": 179,
   "id": "ad7a8585",
   "metadata": {
    "scrolled": true
   },
   "outputs": [
    {
     "name": "stdout",
     "output_type": "stream",
     "text": [
      "1.6986705883268416\n",
      "1.6639860848429078\n",
      "1.7726658772673958\n",
      "1.7805497316367864\n",
      "1.772026659051767\n",
      "1.7698872952817053\n",
      "1.7479496270956545\n",
      "1.7327295685781785\n",
      "1.7386949090174622\n",
      "1.7493681362431697\n"
     ]
    }
   ],
   "source": [
    "#GRF algorithm: results seem pretty bad, calculating the average class of a node's neighbors\n",
    "#does not seem viable for classification problems.\n",
    "\n",
    "for i in range(10):\n",
    "    w = KNNgraph(i, similarity)\n",
    "   \n",
    "    degree = np.zeros((194, 194))\n",
    "    for i in range(194):\n",
    "        degree[i][i] = sum(w[i,:])\n",
    "    duu = degree[100:, 100:]\n",
    "    wuu = w[100:, 100:]\n",
    "    wul = w[100:, :100]\n",
    "    k = np.linalg.inv(duu - wuu) @ wul\n",
    "    pred = k @ Y     \n",
    "    print(np.sum(np.abs(Y_true - pred))/94)\n",
    "    \n",
    "    \n",
    "    \n"
   ]
  },
  {
   "cell_type": "code",
   "execution_count": 20,
   "id": "db5c5821",
   "metadata": {},
   "outputs": [
    {
     "data": {
      "text/plain": [
       "array([[276.,   0.,   0., ...,   0.,   0.,   0.],\n",
       "       [  0., 279.,   0., ...,   0.,   0.,   0.],\n",
       "       [  0.,   0., 384., ...,   0.,   0.,   0.],\n",
       "       ...,\n",
       "       [  0.,   0.,   0., ..., 267.,   0.,   0.],\n",
       "       [  0.,   0.,   0., ...,   0., 263.,   0.],\n",
       "       [  0.,   0.,   0., ...,   0.,   0., 335.]])"
      ]
     },
     "execution_count": 20,
     "metadata": {},
     "output_type": "execute_result"
    }
   ],
   "source": [
    "degree"
   ]
  },
  {
   "cell_type": "code",
   "execution_count": 54,
   "id": "b2c264e0",
   "metadata": {},
   "outputs": [],
   "source": [
    "#Solving with LGC algorithm: slightly better result than GRF\n",
    "def LGC(w, deg):\n",
    "    y_pred = cp.Variable(194)\n",
    "    objective = 0\n",
    "    constraints = []\n",
    "    for i in range(194):\n",
    "        constraints += [y_pred[i] >=0]\n",
    "        constraints += [y_pred[i] <=7]\n",
    "    \n",
    "        for j in range(194):\n",
    "            t = w[i, j]*((1/np.sqrt(deg[i,i])*y_pred[i]) - (1/np.sqrt(deg[j, j])*y_pred[j]))**2\n",
    "            objective += t\n",
    "    objective += sum((y_pred[:100] - Y)**2)\n",
    "    prob = cp.Problem(cp.Minimize(objective), constraints)\n",
    "    prob.solve(solver=cp.OSQP)\n",
    "    return y_pred.value\n",
    "    \n",
    "\n",
    "\n",
    "\n",
    "\n"
   ]
  },
  {
   "cell_type": "code",
   "execution_count": 24,
   "id": "707c84b2",
   "metadata": {},
   "outputs": [],
   "source": [
    "import gurobipy\n",
    "prob = cp.Problem(cp.Minimize(objective), constraints)\n"
   ]
  },
  {
   "cell_type": "code",
   "execution_count": 25,
   "id": "4d763a9d",
   "metadata": {},
   "outputs": [
    {
     "data": {
      "text/plain": [
       "382.7613020600859"
      ]
     },
     "execution_count": 25,
     "metadata": {},
     "output_type": "execute_result"
    }
   ],
   "source": [
    "prob.solve(solver=cp.OSQP)"
   ]
  },
  {
   "cell_type": "code",
   "execution_count": 27,
   "id": "18966c29",
   "metadata": {},
   "outputs": [
    {
     "name": "stdout",
     "output_type": "stream",
     "text": [
      "[1.01537441 1.77687072 1.04463109 1.49128546 1.23500191 1.48794347\n",
      " 1.20595933 1.50541707 1.18301873 1.22323239 1.75939517 1.76819044\n",
      " 1.4037614  1.74990072 1.44384252 2.95293856 2.64524576 1.24782139\n",
      " 2.09497974 1.13501255 0.65567246 2.81822538 0.87088141 4.91049263\n",
      " 1.29886751 1.00688876 1.40080911 2.39023754 2.60176966 1.76908803\n",
      " 2.08154992 1.55869311 3.05296802 3.02350165 1.73384316 1.7698669\n",
      " 1.37833674 1.81473617 2.82268694 0.98849282 0.97136586 2.94926523\n",
      " 0.78586583 2.06608793 0.99864513 0.70317004 3.05268911 2.53711371\n",
      " 3.27903675 0.7353376  1.88789432 2.51831652 1.75168986 3.08017229\n",
      " 1.4286952  2.59825789 1.7124963  1.95572152 2.91627241 0.99505774\n",
      " 0.90092738 2.39809725 1.06281692 1.5652529  1.12943824 2.87223203\n",
      " 2.62841179 3.1937693  3.67205424 1.37760222 2.78054345 3.15219251\n",
      " 3.23767117 1.40118578 1.62129358 2.56866638 3.15928772 1.27429035\n",
      " 1.44451937 1.23301196 1.91886851 2.80551584 0.63253786 2.9478275\n",
      " 3.65319239 0.8925983  1.29406063 1.69117277 1.38510263 1.12062649\n",
      " 1.04162462 1.73684602 1.03572086 2.73547161 1.52243908 1.70873916\n",
      " 2.84026838 1.74989809 1.94033725 3.02034739 1.03983217 1.52771361\n",
      " 1.3316551  1.4536925  1.49632913 1.29932014 1.05719662 1.74779828\n",
      " 0.96711461 0.9674976  1.01614917 1.53281459 0.99428012 1.25946821\n",
      " 1.35989651 0.99665616 2.15294506 1.21582148 1.48533503 0.95409621\n",
      " 1.19291248 2.18785455 1.55858676 1.62617347 1.56306898 1.14120619\n",
      " 1.1106338  2.18411726 1.67296844 2.08612639 2.41854978 2.00835335\n",
      " 1.91811737 1.8903133  1.70458895 1.34252177 1.30975838 1.00963848\n",
      " 0.99188171 1.4627606  1.28120522 1.35669396 1.47018414 1.67551446\n",
      " 1.70568538 1.89066317 1.58182989 1.86601429 1.57911426 1.19627682\n",
      " 1.41207412 1.49819722 1.37254978 1.83513244 1.41949574 1.63199283\n",
      " 1.5914006  0.88562109 1.45009785 1.76417757 1.5757501  1.42808369\n",
      " 1.59936359 1.50439034 1.14180778 1.89241146 1.8274247  2.30032647\n",
      " 1.2480363  1.05001876 1.59986177 1.83192408 1.02353579 1.45208106\n",
      " 1.50021011 1.05868696 1.58824236 2.8470562  1.56310874 1.50440102\n",
      " 1.9172537  1.63836517 1.65224239 7.         1.01086444 1.76286273\n",
      " 1.71337682 1.65661128 1.2019896  1.29480595 1.83313668 1.09033744\n",
      " 1.31441355 1.50257427]\n"
     ]
    }
   ],
   "source": [
    "print(y_pred.value)"
   ]
  },
  {
   "cell_type": "code",
   "execution_count": 31,
   "id": "360a464a",
   "metadata": {
    "scrolled": true
   },
   "outputs": [
    {
     "name": "stdout",
     "output_type": "stream",
     "text": [
      "1.4543170595463244\n"
     ]
    }
   ],
   "source": [
    "p = y_pred.value\n",
    "print(np.sum(np.abs(Y_true - p[100:]))/94)"
   ]
  },
  {
   "cell_type": "code",
   "execution_count": 33,
   "id": "78fbac4e",
   "metadata": {},
   "outputs": [
    {
     "name": "stdout",
     "output_type": "stream",
     "text": [
      "[1. 2. 1. 1. 1. 1. 1. 2. 1. 1. 2. 2. 1. 2. 1. 3. 3. 1. 2. 1. 1. 3. 1. 5.\n",
      " 1. 1. 1. 2. 3. 2. 2. 2. 3. 3. 2. 2. 1. 2. 3. 1. 1. 3. 1. 2. 1. 1. 3. 3.\n",
      " 3. 1. 2. 3. 2. 3. 1. 3. 2. 2. 3. 1. 1. 2. 1. 2. 1. 3. 3. 3. 4. 1. 3. 3.\n",
      " 3. 1. 2. 3. 3. 1. 1. 1. 2. 3. 1. 3. 4. 1. 1. 2. 1. 1. 1. 2. 1. 3. 2. 2.\n",
      " 3. 2. 2. 3. 1. 2. 1. 1. 1. 1. 1. 2. 1. 1. 1. 2. 1. 1. 1. 1. 2. 1. 1. 1.\n",
      " 1. 2. 2. 2. 2. 1. 1. 2. 2. 2. 2. 2. 2. 2. 2. 1. 1. 1. 1. 1. 1. 1. 1. 2.\n",
      " 2. 2. 2. 2. 2. 1. 1. 1. 1. 2. 1. 2. 2. 1. 1. 2. 2. 1. 2. 2. 1. 2. 2. 2.\n",
      " 1. 1. 2. 2. 1. 1. 2. 1. 2. 3. 2. 2. 2. 2. 2. 7. 1. 2. 2. 2. 1. 1. 2. 1.\n",
      " 1. 2.]\n"
     ]
    }
   ],
   "source": [
    "print(np.matrix.round(p))"
   ]
  },
  {
   "cell_type": "code",
   "execution_count": null,
   "id": "764ee4ff",
   "metadata": {},
   "outputs": [
    {
     "name": "stdout",
     "output_type": "stream",
     "text": [
      "1.6010390283727496\n",
      "1.8784875752373553\n",
      "1.7514597624804702\n",
      "1.6353023433964868\n",
      "1.6218159025328516\n",
      "1.6071887019285482\n",
      "1.6169534822652751\n",
      "1.6274120394442322\n"
     ]
    }
   ],
   "source": [
    "for i in range(10):\n",
    "    w = KNNgraph(i, similarity)\n",
    "    deg = np.zeros((194, 194))\n",
    "    for i in range(194):\n",
    "        deg[i][i] = sum(w[i,:])\n",
    "    val = LGC(w, deg)\n",
    "    print(np.sum(np.abs(Y_true - val[100:]))/94)\n",
    "    "
   ]
  },
  {
   "cell_type": "code",
   "execution_count": null,
   "id": "7650e18b",
   "metadata": {},
   "outputs": [],
   "source": []
  }
 ],
 "metadata": {
  "kernelspec": {
   "display_name": "Python 3 (ipykernel)",
   "language": "python",
   "name": "python3"
  },
  "language_info": {
   "codemirror_mode": {
    "name": "ipython",
    "version": 3
   },
   "file_extension": ".py",
   "mimetype": "text/x-python",
   "name": "python",
   "nbconvert_exporter": "python",
   "pygments_lexer": "ipython3",
   "version": "3.9.7"
  }
 },
 "nbformat": 4,
 "nbformat_minor": 5
}
